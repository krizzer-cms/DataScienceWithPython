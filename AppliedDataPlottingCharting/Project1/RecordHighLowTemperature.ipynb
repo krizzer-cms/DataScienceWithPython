{
 "cells": [
  {
   "cell_type": "markdown",
   "metadata": {},
   "source": [
    "# Assignment 2\n",
    "\n",
    "Before working on this assignment please read these instructions fully. In the submission area, you will notice that you can click the link to **Preview the Grading** for each step of the assignment. This is the criteria that will be used for peer grading. Please familiarize yourself with the criteria before beginning the assignment.\n",
    "\n",
    "An NOAA dataset has been stored in the file `data/C2A2_data/BinnedCsvs_d400/fb441e62df2d58994928907a91895ec62c2c42e6cd075c2700843b89.csv`. This is the dataset to use for this assignment. Note: The data for this assignment comes from a subset of The National Centers for Environmental Information (NCEI) [Daily Global Historical Climatology Network](https://www1.ncdc.noaa.gov/pub/data/ghcn/daily/readme.txt) (GHCN-Daily). The GHCN-Daily is comprised of daily climate records from thousands of land surface stations across the globe.\n",
    "\n",
    "Each row in the assignment datafile corresponds to a single observation.\n",
    "\n",
    "The following variables are provided to you:\n",
    "\n",
    "* **id** : station identification code\n",
    "* **date** : date in YYYY-MM-DD format (e.g. 2012-01-24 = January 24, 2012)\n",
    "* **element** : indicator of element type\n",
    "    * TMAX : Maximum temperature (tenths of degrees C)\n",
    "    * TMIN : Minimum temperature (tenths of degrees C)\n",
    "* **value** : data value for element (tenths of degrees C)\n",
    "\n",
    "For this assignment, you must:\n",
    "\n",
    "1. Read the documentation and familiarize yourself with the dataset, then write some python code which returns a line graph of the record high and record low temperatures by day of the year over the period 2005-2014. The area between the record high and record low temperatures for each day should be shaded.\n",
    "2. Overlay a scatter of the 2015 data for any points (highs and lows) for which the ten year record (2005-2014) record high or record low was broken in 2015.\n",
    "3. Watch out for leap days (i.e. February 29th), it is reasonable to remove these points from the dataset for the purpose of this visualization.\n",
    "4. Make the visual nice! Leverage principles from the first module in this course when developing your solution. Consider issues such as legends, labels, and chart junk.\n",
    "\n",
    "The data you have been given is near **Ann Arbor, Michigan, United States**, and the stations the data comes from are shown on the map below."
   ]
  },
  {
   "cell_type": "code",
   "execution_count": 1,
   "metadata": {},
   "outputs": [
    {
     "ename": "ModuleNotFoundError",
     "evalue": "No module named 'mplleaflet'",
     "output_type": "error",
     "traceback": [
      "\u001b[0;31m---------------------------------------------------------------------------\u001b[0m",
      "\u001b[0;31mModuleNotFoundError\u001b[0m                       Traceback (most recent call last)",
      "\u001b[0;32m<ipython-input-1-5b6907552ed8>\u001b[0m in \u001b[0;36m<module>\u001b[0;34m\u001b[0m\n\u001b[1;32m      1\u001b[0m \u001b[0mget_ipython\u001b[0m\u001b[0;34m(\u001b[0m\u001b[0;34m)\u001b[0m\u001b[0;34m.\u001b[0m\u001b[0mrun_line_magic\u001b[0m\u001b[0;34m(\u001b[0m\u001b[0;34m'matplotlib'\u001b[0m\u001b[0;34m,\u001b[0m \u001b[0;34m'notebook'\u001b[0m\u001b[0;34m)\u001b[0m\u001b[0;34m\u001b[0m\u001b[0;34m\u001b[0m\u001b[0m\n\u001b[1;32m      2\u001b[0m \u001b[0;32mimport\u001b[0m \u001b[0mmatplotlib\u001b[0m\u001b[0;34m.\u001b[0m\u001b[0mpyplot\u001b[0m \u001b[0;32mas\u001b[0m \u001b[0mplt\u001b[0m\u001b[0;34m\u001b[0m\u001b[0;34m\u001b[0m\u001b[0m\n\u001b[0;32m----> 3\u001b[0;31m \u001b[0;32mimport\u001b[0m \u001b[0mmplleaflet\u001b[0m\u001b[0;34m\u001b[0m\u001b[0;34m\u001b[0m\u001b[0m\n\u001b[0m\u001b[1;32m      4\u001b[0m \u001b[0;32mimport\u001b[0m \u001b[0mpandas\u001b[0m \u001b[0;32mas\u001b[0m \u001b[0mpd\u001b[0m\u001b[0;34m\u001b[0m\u001b[0;34m\u001b[0m\u001b[0m\n\u001b[1;32m      5\u001b[0m \u001b[0;34m\u001b[0m\u001b[0m\n",
      "\u001b[0;31mModuleNotFoundError\u001b[0m: No module named 'mplleaflet'"
     ]
    }
   ],
   "source": [
    "%matplotlib notebook\n",
    "import matplotlib.pyplot as plt\n",
    "import mplleaflet\n",
    "import pandas as pd\n",
    "\n",
    "def leaflet_plot_stations(binsize, hashid):\n",
    "\n",
    "    df = pd.read_csv('data/C2A2_data/BinSize_d{}.csv'.format(binsize))\n",
    "\n",
    "    station_locations_by_hash = df[df['hash'] == hashid]\n",
    "\n",
    "    lons = station_locations_by_hash['LONGITUDE'].tolist()\n",
    "    lats = station_locations_by_hash['LATITUDE'].tolist()\n",
    "\n",
    "    plt.figure(figsize=(8,8))\n",
    "\n",
    "    plt.scatter(lons, lats, c='r', alpha=0.7, s=200)\n",
    "\n",
    "    return mplleaflet.display()\n",
    "\n",
    "leaflet_plot_stations(400,'fb441e62df2d58994928907a91895ec62c2c42e6cd075c2700843b89')"
   ]
  },
  {
   "cell_type": "code",
   "execution_count": null,
   "metadata": {},
   "outputs": [],
   "source": [
    "%matplotlib notebook\n",
    "import matplotlib.pyplot as plt\n",
    "import mplleaflet\n",
    "import pandas as pd\n",
    "import numpy as np\n",
    "from IPython.core.interactiveshell import InteractiveShell\n",
    "InteractiveShell.ast_node_interactivity = \"all\"\n",
    "\n",
    "# Import the data\n",
    "df = pd.read_csv('data/C2A2_data/BinnedCsvs_d400/fb441e62df2d58994928907a91895ec62c2c42e6cd075c2700843b89.csv')\n",
    "df.head()"
   ]
  },
  {
   "cell_type": "code",
   "execution_count": null,
   "metadata": {},
   "outputs": [],
   "source": [
    "#Pre_process data for analyzing\n",
    "#Temperature to tenths\n",
    "df['Data_Value'] = df['Data_Value'] * 0.1\n",
    "\n",
    "#Extract year and month-day from 'Date' column\n",
    "df['Date'] = pd.to_datetime(df['Date'])\n",
    "df['Year'] = df['Date'].dt.year\n",
    "df['MonthDay'] = df['Date'].dt.strftime('%m-%d') \n",
    "\n",
    "#Remove the leap year dates\n",
    "df = df[df['MonthDay'] != '02-29']"
   ]
  },
  {
   "cell_type": "code",
   "execution_count": null,
   "metadata": {},
   "outputs": [],
   "source": [
    "#Remove 2015 data from df. Place into new dataframe\n",
    "data_2015 = df[df['Year']==2015]\n",
    "\n",
    "#Create new dataframe without 2015\n",
    "data_2005_2014 = df[df['Year']!=2015]"
   ]
  },
  {
   "cell_type": "code",
   "execution_count": null,
   "metadata": {},
   "outputs": [],
   "source": [
    "# Process: Group data to create series objects that determine max and min temperatures for 2015 and 2005-2014 dataframe\n",
    "\n",
    "# Create maximum and minimum dataframes with maximum and minimum values over a 10 year period. \n",
    "#  Max and Min for 2005-2014 with reset inndex\n",
    "max_data_2005_2014 = data_2005_2014.groupby('MonthDay').agg({'Data_Value':np.max})\n",
    "min_data_2005_2014 = data_2005_2014.groupby('MonthDay').agg({'Data_Value':np.min})\n",
    "max_data_2005_2014.reset_index(inplace=True)\n",
    "min_data_2005_2014.reset_index(inplace=True)\n",
    "\n",
    "# Max and Min for 2015\n",
    "max_data_2015 = data_2015.groupby('MonthDay').agg({'Data_Value':np.max})\n",
    "min_data_2015 = data_2015.groupby('MonthDay').agg({'Data_Value':np.min})\n",
    "max_data_2015.reset_index(inplace=True)\n",
    "min_data_2015.reset_index(inplace=True)\n",
    "\n",
    "# Merge data from 2015 and 2005-2014 to get complete aggregated data dataframe\n",
    "all_data_max = pd.merge(max_data_2015, max_data_2005_2014, how='right', on = 'MonthDay').rename(columns = {'Data_Value_x': '2015 Max Temp', 'Data_Value_y': '05-14 Max Temp'})\n",
    "all_data_min = pd.merge(min_data_2015, min_data_2005_2014, how='right', on = 'MonthDay').rename(columns ={'Data_Value_x': '2015 Min Temp', 'Data_Value_y': '05-14 Min Temp'})\n",
    "\n",
    "# Dataframes of 2015 data which had points greater than and less than 10 year records (2005-2014). This is for scatter overlay.\n",
    "max_record_2015 = all_data_max[all_data_max['2015 Max Temp'] > all_data_max['05-14 Max Temp']]\n",
    "min_record_2015 = all_data_min[all_data_min['2015 Min Temp'] < all_data_min['05-14 Min Temp']]\n"
   ]
  },
  {
   "cell_type": "code",
   "execution_count": null,
   "metadata": {},
   "outputs": [],
   "source": [
    "%matplotlib inline\n",
    "\n",
    "#Create figure object with assumed figsize \n",
    "plt.figure(figsize = [16,10])\n",
    "\n",
    "#Plot the 2005-2014 data with 10 year record max and min temperatures for each day in the year\n",
    "#Create observation points because plot does not take string data\n",
    "XAxisDates= list(range(1,366))\n",
    "plt.plot(XAxisDates, max_data_2005_2014['Data_Value'].values, 'b-', label = \"Max Temperature\")\n",
    "plt.plot(XAxisDates, min_data_2005_2014['Data_Value'].values, 'g-', label = \"Min Temperature\")\n",
    "\n",
    "#Label axes\n",
    "axes = plt.gca()\n",
    "axes.set_ylabel('Temperature (deg C)', fontsize=15)\n",
    "axes.set_xlabel('Day of Year', fontsize=15)\n",
    "axes.set_title('Record High and Low Temperatures', fontsize=20)\n",
    "\n",
    "#Include 2015 data with record high and low temperatures (greater or less than 10 year temperature records) over the year\n",
    "\n",
    "plt.scatter(max_record_2015.index.tolist(), max_record_2015['2015 Max Temp'].values, c = 'k', label = \"2015 Record High\")\n",
    "plt.scatter(min_record_2015.index.tolist(), min_record_2015['2015 Min Temp'].values, c = 'r', label = \"2015 Record Low\")\n",
    "plt.legend(['High Temperatures', 'Low Temperatures'])\n",
    "\n",
    "\n",
    "#Fill between\n",
    "axes.fill_between(XAxisDates, max_data_2005_2014['Data_Value'], min_data_2005_2014['Data_Value'], facecolor='grey', alpha=0.25)\n",
    "\n",
    "\n",
    "#Dejunkify plot\n",
    "\n",
    "axes.spines['top'].set_visible(False)\n",
    "axes.spines['right'].set_visible(False)\n",
    "plt.legend(loc = 8, fontsize=25)"
   ]
  },
  {
   "cell_type": "code",
   "execution_count": null,
   "metadata": {},
   "outputs": [],
   "source": []
  }
 ],
 "metadata": {
  "kernelspec": {
   "display_name": "Python 3",
   "language": "python",
   "name": "python3"
  },
  "language_info": {
   "codemirror_mode": {
    "name": "ipython",
    "version": 3
   },
   "file_extension": ".py",
   "mimetype": "text/x-python",
   "name": "python",
   "nbconvert_exporter": "python",
   "pygments_lexer": "ipython3",
   "version": "3.8.5"
  }
 },
 "nbformat": 4,
 "nbformat_minor": 1
}
